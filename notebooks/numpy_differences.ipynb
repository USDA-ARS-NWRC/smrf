{
 "metadata": {
  "language_info": {
   "codemirror_mode": {
    "name": "ipython",
    "version": 3
   },
   "file_extension": ".py",
   "mimetype": "text/x-python",
   "name": "python",
   "nbconvert_exporter": "python",
   "pygments_lexer": "ipython3",
   "version": "3.6.9-final"
  },
  "orig_nbformat": 2,
  "kernelspec": {
   "name": "python_defaultSpec_1600360623664",
   "display_name": "Python 3.6.9 64-bit ('.venv': virtualenv)"
  }
 },
 "nbformat": 4,
 "nbformat_minor": 2,
 "cells": [
  {
   "source": [
    "# Numpy version\n",
    "\n",
    "Numpy version >1.19 makes some ever so small changes to the test data making them not pass. It appears to be the vapor pressure from HRRR because the air temperature is fine but not variables derived from vapor pressure like precip temperature and thermal.\n",
    "\n",
    "- air temperature is exactly the same from HRRR\n",
    "- relative humidity is exactly the same from HRRR\n",
    "- vapor pressure is float noise\n"
   ],
   "cell_type": "markdown",
   "metadata": {}
  },
  {
   "cell_type": "code",
   "execution_count": 1,
   "metadata": {},
   "outputs": [],
   "source": [
    "import pandas as pd\n",
    "import numpy as np"
   ]
  },
  {
   "cell_type": "code",
   "execution_count": 2,
   "metadata": {},
   "outputs": [
    {
     "output_type": "execute_result",
     "data": {
      "text/plain": "array([0.])"
     },
     "metadata": {},
     "execution_count": 2
    }
   ],
   "source": [
    "# air temperature\n",
    "old = pd.read_csv('../ta_old.csv', parse_dates=True, index_col='date_time')\n",
    "new = pd.read_csv('../ta_new.csv', parse_dates=True, index_col='date_time')\n",
    "d = old - new\n",
    "np.unique(d)"
   ]
  },
  {
   "cell_type": "code",
   "execution_count": 3,
   "metadata": {},
   "outputs": [
    {
     "output_type": "execute_result",
     "data": {
      "text/plain": "array([0.])"
     },
     "metadata": {},
     "execution_count": 3
    }
   ],
   "source": [
    "# relative humidity\n",
    "old = pd.read_csv('../rh_old.csv', parse_dates=True, index_col='date_time')\n",
    "new = pd.read_csv('../rh_new.csv', parse_dates=True, index_col='date_time')\n",
    "d = old - new\n",
    "np.unique(d)"
   ]
  },
  {
   "cell_type": "code",
   "execution_count": 4,
   "metadata": {},
   "outputs": [
    {
     "output_type": "execute_result",
     "data": {
      "text/plain": "array([-2.11303719e-04, -2.09472666e-04, -7.00683595e-05, -6.70166046e-05,\n       -5.78613290e-05, -1.80358875e-05,  0.00000000e+00,  1.29699711e-04,\n        1.82006839e-04,  1.91406260e-04])"
     },
     "metadata": {},
     "execution_count": 4
    }
   ],
   "source": [
    "# vapor pressure\n",
    "old = pd.read_csv('../vp_old.csv', parse_dates=True, index_col='date_time')\n",
    "new = pd.read_csv('../vp_new.csv', parse_dates=True, index_col='date_time')\n",
    "d = old - new\n",
    "np.unique(d)\n"
   ]
  },
  {
   "cell_type": "code",
   "execution_count": null,
   "metadata": {},
   "outputs": [],
   "source": []
  }
 ]
}