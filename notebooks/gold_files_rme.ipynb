{
 "cells": [
  {
   "cell_type": "markdown",
   "metadata": {},
   "source": [
    "# RME gold files\n",
    "This notebook plots the gold files for the RME test case to visually ensure that the files are as desired."
   ]
  },
  {
   "cell_type": "code",
   "execution_count": null,
   "metadata": {},
   "outputs": [],
   "source": [
    "import netCDF4 as nc\n",
    "import numpy as np\n",
    "import matplotlib.pyplot as plt\n",
    "import seaborn as sns\n",
    "\n",
    "sns.set_context('talk')\n"
   ]
  },
  {
   "cell_type": "code",
   "execution_count": null,
   "metadata": {},
   "outputs": [],
   "source": [
    "\n",
    "# plot function\n",
    "\n",
    "def plot_gold(variable):\n",
    "    n = nc.Dataset('../tests/RME/gold/{}.nc'.format(variable))\n",
    "    tsteps = np.min([3, len(n.variables['time'])])\n",
    "\n",
    "    fig, ax = plt.subplots(figsize=(15, 8), nrows=1, ncols=3)\n",
    "    fig.subplots_adjust(left=0.02, bottom=0.06, right=0.95, top=0.9, wspace=0.05)\n",
    "    fig.suptitle('RME {}'.format(variable))\n",
    "\n",
    "    # get the dates\n",
    "    dt = nc.num2date(n.variables['time'][:], n.variables['time'].units, n.variables['time'].calendar)\n",
    "\n",
    "    vmin = np.min(n.variables[variable][:])\n",
    "    vmax = np.max(n.variables[variable][:])\n",
    "    print('Min: {}, Max: {}'.format(vmin, vmax))\n",
    "\n",
    "    for i in range(tsteps):\n",
    "        im = ax[i].imshow(n.variables[variable][i, :], vmin=vmin, vmax=vmax)\n",
    "\n",
    "        im.axes.get_xaxis().set_ticks([])\n",
    "        im.axes.get_yaxis().set_ticks([])\n",
    "        ax[i].set_title(dt[i].strftime('%Y-%m-%d %H:%M'))\n",
    "\n",
    "    fig.colorbar(im, ax=ax.ravel().tolist(), orientation=\"horizontal\", shrink=0.5)\n",
    "\n",
    "    n.close()\n"
   ]
  },
  {
   "cell_type": "code",
   "execution_count": null,
   "metadata": {},
   "outputs": [],
   "source": [
    "# air temp\n",
    "plot_gold('air_temp')"
   ]
  },
  {
   "cell_type": "code",
   "execution_count": null,
   "metadata": {},
   "outputs": [],
   "source": [
    "plot_gold('net_solar')"
   ]
  },
  {
   "cell_type": "code",
   "execution_count": null,
   "metadata": {},
   "outputs": [],
   "source": [
    "plot_gold('percent_snow')"
   ]
  },
  {
   "cell_type": "code",
   "execution_count": null,
   "metadata": {},
   "outputs": [],
   "source": [
    "plot_gold('precip_temp')"
   ]
  },
  {
   "cell_type": "code",
   "execution_count": null,
   "metadata": {},
   "outputs": [],
   "source": [
    "plot_gold('precip')"
   ]
  },
  {
   "cell_type": "code",
   "execution_count": null,
   "metadata": {},
   "outputs": [],
   "source": [
    "plot_gold('snow_density')"
   ]
  },
  {
   "cell_type": "code",
   "execution_count": null,
   "metadata": {},
   "outputs": [],
   "source": [
    "plot_gold('thermal')"
   ]
  },
  {
   "cell_type": "code",
   "execution_count": null,
   "metadata": {},
   "outputs": [],
   "source": [
    "plot_gold('vapor_pressure')"
   ]
  },
  {
   "cell_type": "code",
   "execution_count": null,
   "metadata": {},
   "outputs": [],
   "source": [
    "plot_gold('wind_direction')"
   ]
  },
  {
   "cell_type": "code",
   "execution_count": null,
   "metadata": {},
   "outputs": [],
   "source": [
    "plot_gold('wind_speed')"
   ]
  }
 ],
 "metadata": {
  "language_info": {
   "codemirror_mode": {
    "name": "ipython",
    "version": 3
   },
   "file_extension": ".py",
   "mimetype": "text/x-python",
   "name": "python",
   "nbconvert_exporter": "python",
   "pygments_lexer": "ipython3",
   "version": "3.6.9-final"
  },
  "orig_nbformat": 2,
  "kernelspec": {
   "name": "python36964bitvenvvirtualenv7d76ec95724e4c80a84536475a51dccd",
   "display_name": "Python 3.6.9 64-bit ('.venv': virtualenv)"
  }
 },
 "nbformat": 4,
 "nbformat_minor": 2
}